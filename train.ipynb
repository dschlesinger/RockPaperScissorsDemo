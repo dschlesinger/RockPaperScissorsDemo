{
 "cells": [
  {
   "cell_type": "code",
   "execution_count": null,
   "metadata": {},
   "outputs": [],
   "source": [
    "%pip install tensorflow\n",
    "%pip install tensorflow_datasets\n",
    "%pip install matplotlib"
   ]
  },
  {
   "cell_type": "code",
   "execution_count": 6,
   "metadata": {},
   "outputs": [],
   "source": [
    "import tensorflow_datasets as tfds\n",
    "import tensorflow as tf\n",
    "import matplotlib.pyplot as plt\n",
    "import numpy as np"
   ]
  },
  {
   "cell_type": "code",
   "execution_count": 7,
   "metadata": {},
   "outputs": [],
   "source": [
    "RPS_data = tfds.load('rock_paper_scissors', split='train')"
   ]
  },
  {
   "cell_type": "code",
   "execution_count": null,
   "metadata": {},
   "outputs": [],
   "source": [
    "#Show image\n",
    "for ex in RPS_data:\n",
    "    if ex[\"label\"] == 0:\n",
    "        example = np.array(ex[\"image\"])\n",
    "        answer = np.array(ex[\"label\"])\n",
    "        break\n",
    "\n",
    "plt.imshow(example)\n",
    "plt.show()\n",
    "print(f\"Label: {answer}\")\n",
    "\n",
    "print(f\"#Examples: {len(RPS_data)}\")\n",
    "print(f\"Shape Data: {tf.shape(example)}\")\n",
    "print(f\"Shape Data: {tf.shape(answer)}\")"
   ]
  },
  {
   "cell_type": "code",
   "execution_count": null,
   "metadata": {},
   "outputs": [],
   "source": [
    "# 0: Rock\n",
    "# 1: Paper\n",
    "# 2: Scissors"
   ]
  },
  {
   "cell_type": "code",
   "execution_count": 34,
   "metadata": {},
   "outputs": [],
   "source": [
    "x_ = []\n",
    "y_ = []\n",
    "\n",
    "for ex in RPS_data:\n",
    "    x_.append(ex[\"image\"])\n",
    "    y_.append(ex[\"label\"])"
   ]
  },
  {
   "cell_type": "code",
   "execution_count": 52,
   "metadata": {},
   "outputs": [],
   "source": [
    "permutation = np.random.permutation(len(RPS_data))"
   ]
  },
  {
   "cell_type": "code",
   "execution_count": 53,
   "metadata": {},
   "outputs": [],
   "source": [
    "x, y, xt, yt = np.array(x_)[permutation][:2200], np.array(y_)[permutation][:2200], np.array(x_)[permutation][2200:], np.array(y_)[permutation][2200:]\n"
   ]
  },
  {
   "cell_type": "code",
   "execution_count": null,
   "metadata": {},
   "outputs": [],
   "source": [
    "np.unique(y, return_counts=True), np.unique(yt, return_counts=True)"
   ]
  },
  {
   "cell_type": "code",
   "execution_count": 55,
   "metadata": {},
   "outputs": [],
   "source": [
    "y = tf.keras.utils.to_categorical(y)\n",
    "yt = tf.keras.utils.to_categorical(yt)"
   ]
  },
  {
   "cell_type": "code",
   "execution_count": null,
   "metadata": {},
   "outputs": [],
   "source": [
    "y[0], yt[0]"
   ]
  },
  {
   "cell_type": "code",
   "execution_count": null,
   "metadata": {},
   "outputs": [],
   "source": [
    "x[0].shape"
   ]
  },
  {
   "cell_type": "code",
   "execution_count": 59,
   "metadata": {},
   "outputs": [],
   "source": [
    "model = tf.keras.models.Sequential()\n",
    "\n",
    "model.add(tf.keras.Input(shape=(300,300,3,1)))\n",
    "model.add(tf.keras.layers.Conv3D(10, kernel_size=(5,5,3), padding=\"same\"))\n",
    "model.add(tf.keras.layers.AvgPool3D((5,5,1)))\n",
    "model.add(tf.keras.layers.Conv3D(10, kernel_size=(5,5,3), padding=\"same\"))\n",
    "model.add(tf.keras.layers.AvgPool3D((5,5,1)))\n",
    "model.add(tf.keras.layers.Flatten())\n",
    "model.add(tf.keras.layers.Dense(200, activation=\"relu\"))\n",
    "model.add(tf.keras.layers.Dense(100, activation=\"relu\"))\n",
    "model.add(tf.keras.layers.Dense(50, activation=\"relu\"))\n",
    "model.add(tf.keras.layers.Dense(3, activation=\"softmax\"))\n",
    "\n",
    "model.compile(metrics=[\"acc\"], loss=tf.keras.losses.CategoricalCrossentropy(), optimizer=tf.keras.optimizers.Adam(learning_rate=0.01))"
   ]
  },
  {
   "cell_type": "code",
   "execution_count": null,
   "metadata": {},
   "outputs": [],
   "source": [
    "model.summary()"
   ]
  },
  {
   "cell_type": "code",
   "execution_count": null,
   "metadata": {},
   "outputs": [],
   "source": [
    "model.count_params()"
   ]
  },
  {
   "cell_type": "code",
   "execution_count": null,
   "metadata": {},
   "outputs": [],
   "source": [
    "x.shape"
   ]
  },
  {
   "cell_type": "code",
   "execution_count": null,
   "metadata": {},
   "outputs": [],
   "source": [
    "model.fit(x,y,epochs=3, verbose=1)"
   ]
  },
  {
   "cell_type": "code",
   "execution_count": null,
   "metadata": {},
   "outputs": [],
   "source": [
    "model.evaluate(xt,yt, verbose=1)"
   ]
  },
  {
   "cell_type": "code",
   "execution_count": 19,
   "metadata": {},
   "outputs": [],
   "source": [
    "model.save(\"model.keras\")"
   ]
  }
 ],
 "metadata": {
  "kernelspec": {
   "display_name": "Python 3",
   "language": "python",
   "name": "python3"
  },
  "language_info": {
   "codemirror_mode": {
    "name": "ipython",
    "version": 3
   },
   "file_extension": ".py",
   "mimetype": "text/x-python",
   "name": "python",
   "nbconvert_exporter": "python",
   "pygments_lexer": "ipython3",
   "version": "3.10.13"
  }
 },
 "nbformat": 4,
 "nbformat_minor": 2
}
